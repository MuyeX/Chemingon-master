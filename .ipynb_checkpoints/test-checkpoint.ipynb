{
 "cells": [
  {
   "cell_type": "code",
   "execution_count": 1,
   "metadata": {
    "pycharm": {
     "name": "#%%\n"
    }
   },
   "outputs": [
    {
     "name": "stderr",
     "output_type": "stream",
     "text": [
      "Location of niDAQmx library and include file unknown on darwin - if you find out, please let the PyDAQmx project know\n",
      "\"PyDAQmx\" is raising an error.  You can build documentation, but you likely have issues with your installation.\n"
     ]
    }
   ],
   "source": [
    "import Chemingon"
   ]
  },
  {
   "cell_type": "code",
   "execution_count": 1,
   "metadata": {
    "pycharm": {
     "name": "#%%\n"
    }
   },
   "outputs": [
    {
     "name": "stderr",
     "output_type": "stream",
     "text": [
      "Location of niDAQmx library and include file unknown on darwin - if you find out, please let the PyDAQmx project know\n",
      "\"PyDAQmx\" is raising an error.  You can build documentation, but you likely have issues with your installation.\n"
     ]
    },
    {
     "ename": "ModuleNotFoundError",
     "evalue": "No module named '.'",
     "output_type": "error",
     "traceback": [
      "\u001b[0;31m---------------------------------------------------------------------------\u001b[0m",
      "\u001b[0;31mModuleNotFoundError\u001b[0m                       Traceback (most recent call last)",
      "Input \u001b[0;32mIn [1]\u001b[0m, in \u001b[0;36m<cell line: 20>\u001b[0;34m()\u001b[0m\n\u001b[1;32m     18\u001b[0m dumSens \u001b[38;5;241m=\u001b[39m DummySensor(\u001b[38;5;124m'\u001b[39m\u001b[38;5;124msens1\u001b[39m\u001b[38;5;124m'\u001b[39m, freq \u001b[38;5;241m=\u001b[39m \u001b[38;5;241m1\u001b[39m)\n\u001b[1;32m     19\u001b[0m dumSens2 \u001b[38;5;241m=\u001b[39m DummySensor(\u001b[38;5;124m'\u001b[39m\u001b[38;5;124msens2\u001b[39m\u001b[38;5;124m'\u001b[39m, freq \u001b[38;5;241m=\u001b[39m \u001b[38;5;241m1\u001b[39m)\n\u001b[0;32m---> 20\u001b[0m dumCombComp \u001b[38;5;241m=\u001b[39m \u001b[43mDummyCombinedDevice\u001b[49m\u001b[43m(\u001b[49m\u001b[38;5;124;43m'\u001b[39;49m\u001b[38;5;124;43mdummy combined\u001b[39;49m\u001b[38;5;124;43m'\u001b[39;49m\u001b[43m)\u001b[49m\n\u001b[1;32m     21\u001b[0m comList \u001b[38;5;241m=\u001b[39m [dumComp1, dumComp2, dumComp3, dumComp4, dumSens,dumSens2, dumCombComp]\n\u001b[1;32m     23\u001b[0m publicComp \u001b[38;5;241m=\u001b[39m DummyComponent(\u001b[38;5;124m\"\u001b[39m\u001b[38;5;124mPublic Dum\u001b[39m\u001b[38;5;124m\"\u001b[39m, is_public\u001b[38;5;241m=\u001b[39m\u001b[38;5;28;01mTrue\u001b[39;00m)\n",
      "File \u001b[0;32m~/Library/CloudStorage/OneDrive-ImperialCollegeLondon/Year3 2021-2022/Mo Group/Chemingon-master/Chemingon/components/stdlib/dummyCombinedDevice.py:8\u001b[0m, in \u001b[0;36mDummyCombinedDevice.__init__\u001b[0;34m(self, name, is_public, description, keep_log)\u001b[0m\n\u001b[1;32m      7\u001b[0m \u001b[38;5;28;01mdef\u001b[39;00m \u001b[38;5;21m__init__\u001b[39m(\u001b[38;5;28mself\u001b[39m, name: \u001b[38;5;28mstr\u001b[39m, is_public: \u001b[38;5;28mbool\u001b[39m \u001b[38;5;241m=\u001b[39m \u001b[38;5;28;01mFalse\u001b[39;00m, description: \u001b[38;5;28mstr\u001b[39m \u001b[38;5;241m=\u001b[39m \u001b[38;5;28;01mNone\u001b[39;00m, keep_log\u001b[38;5;241m=\u001b[39m\u001b[38;5;28;01mTrue\u001b[39;00m):\n\u001b[0;32m----> 8\u001b[0m     \u001b[38;5;28;43msuper\u001b[39;49m\u001b[43m(\u001b[49m\u001b[43m)\u001b[49m\u001b[38;5;241;43m.\u001b[39;49m\u001b[38;5;21;43m__init__\u001b[39;49m\u001b[43m(\u001b[49m\u001b[43mname\u001b[49m\u001b[43m,\u001b[49m\u001b[43m \u001b[49m\u001b[43mis_public\u001b[49m\u001b[43m,\u001b[49m\u001b[43m \u001b[49m\u001b[43mdescription\u001b[49m\u001b[43m,\u001b[49m\u001b[43m \u001b[49m\u001b[43mkeep_log\u001b[49m\u001b[43m)\u001b[49m\n\u001b[1;32m      9\u001b[0m     \u001b[38;5;28mself\u001b[39m\u001b[38;5;241m.\u001b[39mdum1 \u001b[38;5;241m=\u001b[39m DummyComponent(\u001b[38;5;124m'\u001b[39m\u001b[38;5;124mcombined dum 1\u001b[39m\u001b[38;5;124m'\u001b[39m)\n\u001b[1;32m     10\u001b[0m     \u001b[38;5;28mself\u001b[39m\u001b[38;5;241m.\u001b[39mdum2 \u001b[38;5;241m=\u001b[39m DummyComponent(\u001b[38;5;124m'\u001b[39m\u001b[38;5;124mcombined dum 2\u001b[39m\u001b[38;5;124m'\u001b[39m)\n",
      "File \u001b[0;32m~/Library/CloudStorage/OneDrive-ImperialCollegeLondon/Year3 2021-2022/Mo Group/Chemingon-master/Chemingon/components/stdlib/combinedComponent.py:10\u001b[0m, in \u001b[0;36mCombinedComponent.__init__\u001b[0;34m(self, name, is_public, description, keep_log)\u001b[0m\n\u001b[1;32m      8\u001b[0m \u001b[38;5;28;01mdef\u001b[39;00m \u001b[38;5;21m__init__\u001b[39m(\u001b[38;5;28mself\u001b[39m, name: \u001b[38;5;28mstr\u001b[39m, is_public: \u001b[38;5;28mbool\u001b[39m \u001b[38;5;241m=\u001b[39m \u001b[38;5;28;01mFalse\u001b[39;00m, description: \u001b[38;5;28mstr\u001b[39m \u001b[38;5;241m=\u001b[39m \u001b[38;5;28;01mNone\u001b[39;00m, keep_log\u001b[38;5;241m=\u001b[39m\u001b[38;5;28;01mTrue\u001b[39;00m):\n\u001b[1;32m      9\u001b[0m     \u001b[38;5;28msuper\u001b[39m()\u001b[38;5;241m.\u001b[39m\u001b[38;5;21m__init__\u001b[39m(name, is_public, description, keep_log)\n\u001b[0;32m---> 10\u001b[0m     tmp_apparatus \u001b[38;5;241m=\u001b[39m \u001b[43mimportlib\u001b[49m\u001b[38;5;241;43m.\u001b[39;49m\u001b[43mimport_module\u001b[49m\u001b[43m(\u001b[49m\u001b[38;5;124;43m'\u001b[39;49m\u001b[38;5;124;43m.apparatus\u001b[39;49m\u001b[38;5;124;43m'\u001b[39;49m\u001b[43m,\u001b[49m\u001b[43m \u001b[49m\u001b[38;5;124;43m'\u001b[39;49m\u001b[38;5;124;43m..core\u001b[39;49m\u001b[38;5;124;43m'\u001b[39;49m\u001b[43m)\u001b[49m\n\u001b[1;32m     11\u001b[0m     Apparatus \u001b[38;5;241m=\u001b[39m tmp_apparatus\u001b[38;5;241m.\u001b[39mApparatus\n\u001b[1;32m     12\u001b[0m     \u001b[38;5;28mself\u001b[39m\u001b[38;5;241m.\u001b[39m_apparatus: Apparatus \u001b[38;5;241m=\u001b[39m Apparatus(\u001b[38;5;124mf\u001b[39m\u001b[38;5;124m'\u001b[39m\u001b[38;5;124mApparatus of combined component \u001b[39m\u001b[38;5;132;01m{\u001b[39;00m\u001b[38;5;28mself\u001b[39m\u001b[38;5;241m.\u001b[39mname\u001b[38;5;132;01m}\u001b[39;00m\u001b[38;5;124m'\u001b[39m,\n\u001b[1;32m     13\u001b[0m                                            description\u001b[38;5;241m=\u001b[39m\u001b[38;5;124mf\u001b[39m\u001b[38;5;124m'\u001b[39m\u001b[38;5;124mApparatus of combined component \u001b[39m\u001b[38;5;132;01m{\u001b[39;00m\u001b[38;5;28mself\u001b[39m\u001b[38;5;241m.\u001b[39mname\u001b[38;5;132;01m}\u001b[39;00m\u001b[38;5;124m'\u001b[39m)\n",
      "File \u001b[0;32m~/opt/anaconda3/envs/Chemingon/lib/python3.9/importlib/__init__.py:127\u001b[0m, in \u001b[0;36mimport_module\u001b[0;34m(name, package)\u001b[0m\n\u001b[1;32m    125\u001b[0m             \u001b[38;5;28;01mbreak\u001b[39;00m\n\u001b[1;32m    126\u001b[0m         level \u001b[38;5;241m+\u001b[39m\u001b[38;5;241m=\u001b[39m \u001b[38;5;241m1\u001b[39m\n\u001b[0;32m--> 127\u001b[0m \u001b[38;5;28;01mreturn\u001b[39;00m \u001b[43m_bootstrap\u001b[49m\u001b[38;5;241;43m.\u001b[39;49m\u001b[43m_gcd_import\u001b[49m\u001b[43m(\u001b[49m\u001b[43mname\u001b[49m\u001b[43m[\u001b[49m\u001b[43mlevel\u001b[49m\u001b[43m:\u001b[49m\u001b[43m]\u001b[49m\u001b[43m,\u001b[49m\u001b[43m \u001b[49m\u001b[43mpackage\u001b[49m\u001b[43m,\u001b[49m\u001b[43m \u001b[49m\u001b[43mlevel\u001b[49m\u001b[43m)\u001b[49m\n",
      "File \u001b[0;32m<frozen importlib._bootstrap>:1030\u001b[0m, in \u001b[0;36m_gcd_import\u001b[0;34m(name, package, level)\u001b[0m\n",
      "File \u001b[0;32m<frozen importlib._bootstrap>:1007\u001b[0m, in \u001b[0;36m_find_and_load\u001b[0;34m(name, import_)\u001b[0m\n",
      "File \u001b[0;32m<frozen importlib._bootstrap>:972\u001b[0m, in \u001b[0;36m_find_and_load_unlocked\u001b[0;34m(name, import_)\u001b[0m\n",
      "File \u001b[0;32m<frozen importlib._bootstrap>:228\u001b[0m, in \u001b[0;36m_call_with_frames_removed\u001b[0;34m(f, *args, **kwds)\u001b[0m\n",
      "File \u001b[0;32m<frozen importlib._bootstrap>:1030\u001b[0m, in \u001b[0;36m_gcd_import\u001b[0;34m(name, package, level)\u001b[0m\n",
      "File \u001b[0;32m<frozen importlib._bootstrap>:1007\u001b[0m, in \u001b[0;36m_find_and_load\u001b[0;34m(name, import_)\u001b[0m\n",
      "File \u001b[0;32m<frozen importlib._bootstrap>:972\u001b[0m, in \u001b[0;36m_find_and_load_unlocked\u001b[0;34m(name, import_)\u001b[0m\n",
      "File \u001b[0;32m<frozen importlib._bootstrap>:228\u001b[0m, in \u001b[0;36m_call_with_frames_removed\u001b[0;34m(f, *args, **kwds)\u001b[0m\n",
      "File \u001b[0;32m<frozen importlib._bootstrap>:1030\u001b[0m, in \u001b[0;36m_gcd_import\u001b[0;34m(name, package, level)\u001b[0m\n",
      "File \u001b[0;32m<frozen importlib._bootstrap>:1007\u001b[0m, in \u001b[0;36m_find_and_load\u001b[0;34m(name, import_)\u001b[0m\n",
      "File \u001b[0;32m<frozen importlib._bootstrap>:984\u001b[0m, in \u001b[0;36m_find_and_load_unlocked\u001b[0;34m(name, import_)\u001b[0m\n",
      "\u001b[0;31mModuleNotFoundError\u001b[0m: No module named '.'"
     ]
    }
   ],
   "source": [
    "# This is a sample Python script.\n",
    "\n",
    "# Press ⌃R to execute it or replace it with your code.\n",
    "# Press Double ⇧ to search everywhere for classes, files, tool windows, actions, and settings.\n",
    "\n",
    "from Chemingon import *\n",
    "\n",
    "import copy\n",
    "\n",
    "\n",
    "\n",
    "\n",
    "dumComp1 = DummyComponent(\"dum1\")\n",
    "dumComp2 = DummyComponent(\"dum2\")\n",
    "dumComp3 = DummyComponent(\"dum3\")\n",
    "dumComp4 = DummyComponent(\"dum4\")\n",
    "dumComp5 = DummyComponent('dum5')\n",
    "dumSens = DummySensor('sens1', freq = 1)\n",
    "dumSens2 = DummySensor('sens2', freq = 1)\n",
    "dumCombComp = DummyCombinedDevice('dummy combined')\n",
    "comList = [dumComp1, dumComp2, dumComp3, dumComp4, dumSens,dumSens2, dumCombComp]\n",
    "\n",
    "publicComp = DummyComponent(\"Public Dum\", is_public=True)\n",
    "\n",
    "apparatus_test = Apparatus(\"dummy test\")\n",
    "apparatus_test.add_component_list(comList)\n",
    "apparatus_test.add_component(publicComp)\n",
    "\n",
    "protocol_test1 = Protocol(apparatus_test, \"test protocol1\")\n",
    "protocol_test1.add_single_operation(VirtualOperation(\"delay\", kwargs={\"seconds\": 1}))\n",
    "op1 = Operation(publicComp, \"do_something\", wait=True, kwargs={\"output\": \"protocol 1 public device\"})\n",
    "protocol_test1.add_single_operation(op1)\n",
    "protocol_test1.add_single_operation(VirtualOperation(\"wait_for_operation\", kwargs={\"op\": op1}))\n",
    "protocol_test1.quick_add(dumComp1, \"do_something\", kwargs={\"output\": \"protocol 1\"})\n",
    "protocol_test1.quick_add(publicComp, 'do_something', kwargs = {'output': 'protocol1 public'})\n",
    "\n",
    "\n",
    "protocol_test2 = Protocol(apparatus_test, \"test protocol2\")\n",
    "protocol_test2.add_single_operation(VirtualOperation(\"delay\", kwargs={\"seconds\": 1}))\n",
    "protocol_test2.quick_add(publicComp, 'do_something', kwargs = {'output': 'protocol2 public'})\n",
    "protocol_test2.quick_add(dumComp2, \"do_something\", kwargs={\"output\": \"protocol 2\"})\n",
    "protocol_test2.quick_add(dumComp2, \"do_something\", kwargs={\"output\": \"protocol 2-2\"})\n",
    "protocol_test2.quick_add(publicComp, 'do_something', kwargs = {'output': 'protocol2 public'})\n",
    "\n",
    "protocol_test3 = Protocol(apparatus_test, \"test protocol3\", block_public=True)\n",
    "protocol_test3.quick_add(dumComp3, \"do_something\", kwargs={\"output\": \"protocol 3\"})\n",
    "protocol_test3.quick_add(dumComp3, \"do_something\", kwargs={\"output\": \"protocol 3\"})\n",
    "protocol_test3.quick_add(dumComp3, \"do_something\", kwargs={\"output\": \"protocol 3\"})\n",
    "protocol_test3.quick_add(publicComp, 'do_something', kwargs = {'output': 'protocol3 public'})\n",
    "protocol_test3.quick_add(dumComp3, \"do_something\", kwargs={\"output\": \"protocol 3\"})\n",
    "protocol_test3.add_single_operation(VirtualOperation(\"delay\", kwargs={\"seconds\": 5}))\n",
    "protocol_test3.quick_add(dumComp3, \"do_something\", kwargs={\"output\": \"protocol 3\"})\n",
    "protocol_test3.quick_add(dumComp3, \"do_something\", kwargs={\"output\": \"protocol 3\"})\n",
    "\n",
    "protocol_test4 = Protocol(apparatus_test, \"test protocol4\", description='description for p 4')\n",
    "protocol_test4.quick_add(dumCombComp, 'do_something')\n",
    "protocol_test4.quick_add(dumComp4, \"do_something\", kwargs={\"output\": \"protocol 4\"})\n",
    "protocol_test4.quick_add(dumComp4, \"do_something\", kwargs={\"output\": \"protocol 4\"})\n",
    "protocol_test4.quick_add(dumComp4, \"do_something\", kwargs={\"output\": \"protocol 4\"})\n",
    "protocol_test4.quick_add(dumComp4, \"do_something\", kwargs={\"output\": \"protocol 4\"})\n",
    "protocol_test4_1 = Protocol(apparatus_test, \"test protocol4-1\", description='description for p 4-1')\n",
    "protocol_test4_1.quick_add(dumComp4, \"do_something\", kwargs={\"output\": \"protocol 4-1 a\"})\n",
    "protocol_test4_1.quick_add(dumComp4, \"do_something\", kwargs={\"output\": \"protocol 4-1 b\"})\n",
    "\n",
    "protocol_test4_1_1 = Protocol(apparatus_test, \"test protocol4-1-1\", description='description for p 4-1-1')\n",
    "protocol_test4_1_1.quick_add(dumComp4, \"do_something\", kwargs={\"output\": \"protocol 4-1-1 a\"})\n",
    "protocol_test4_1_1.quick_add(dumComp4, \"do_something\", kwargs={\"output\": \"protocol 4-1-1 b\"})\n",
    "protocol_test4_1.add_sub_protocol(protocol_test4_1_1)\n",
    "\n",
    "protocol_test4.add_sub_protocol(protocol_test4_1)\n",
    "\n",
    "\n",
    "protocol_err = Protocol(apparatus_test, \"protocol err\")\n",
    "protocol_err.quick_add(dumComp2, \"do_something\", kwargs={\"output\": \"protocol err\"})\n",
    "\n",
    "exp = Experiment(apparatus_test, channels=4, keep_running=False)\n",
    "exp.add_protocol(protocol_test1, channel=1)\n",
    "exp.add_protocol(protocol_test2, channel=2)\n",
    "exp.add_protocol(protocol_test3, channel=3)\n",
    "exp.add_protocol(protocol_test4, channel=4)\n",
    "\n",
    "exp.err_handler.add_solution('Time > 5', protocol_err)\n",
    "\n",
    "\n",
    "#exp.start_master_operators(dry_run=False)\n",
    "#print(\"all done\")\n",
    "\n",
    "exp.start_jupyter_ui()\n"
   ]
  },
  {
   "cell_type": "code",
   "execution_count": null,
   "metadata": {
    "pycharm": {
     "name": "#%%\n"
    }
   },
   "outputs": [],
   "source": []
  }
 ],
 "metadata": {
  "kernelspec": {
   "display_name": "Python 3 (ipykernel)",
   "language": "python",
   "name": "python3"
  },
  "language_info": {
   "codemirror_mode": {
    "name": "ipython",
    "version": 3
   },
   "file_extension": ".py",
   "mimetype": "text/x-python",
   "name": "python",
   "nbconvert_exporter": "python",
   "pygments_lexer": "ipython3",
   "version": "3.9.13"
  }
 },
 "nbformat": 4,
 "nbformat_minor": 1
}
