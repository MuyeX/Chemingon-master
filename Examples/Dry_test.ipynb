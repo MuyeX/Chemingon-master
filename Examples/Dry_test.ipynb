{
 "cells": [
  {
   "cell_type": "code",
   "execution_count": 1,
   "metadata": {
    "pycharm": {
     "name": "#%%\n"
    }
   },
   "outputs": [
    {
     "name": "stderr",
     "output_type": "stream",
     "text": [
      "Location of niDAQmx library and include file unknown on darwin - if you find out, please let the PyDAQmx project know\n",
      "\"PyDAQmx\" is raising an error.  You can build documentation, but you likely have issues with your installation.\n"
     ]
    },
    {
     "data": {
      "text/plain": "VBox(children=(HTML(value='<h4><b>Experiment Control</b></h4>'), HBox(children=(Button(description='Start', ic…",
      "application/vnd.jupyter.widget-view+json": {
       "version_major": 2,
       "version_minor": 0,
       "model_id": "c6be6ac8cef04973bddf1875e4a23639"
      }
     },
     "metadata": {},
     "output_type": "display_data"
    },
    {
     "data": {
      "text/plain": "VBox(children=(HTML(value='<h4><b>Experiment Information</b></h4>'), HBox(children=(Label(value='test protocol…",
      "application/vnd.jupyter.widget-view+json": {
       "version_major": 2,
       "version_minor": 0,
       "model_id": "7e0bd1bbc3f240cebfbd31165bf9e90d"
      }
     },
     "metadata": {},
     "output_type": "display_data"
    },
    {
     "data": {
      "text/plain": "VBox(children=(HTML(value='<h4><b>Sensors</b></h4>'), HBox(children=(Figure(axes=[Axis(label='Time(s)', scale=…",
      "application/vnd.jupyter.widget-view+json": {
       "version_major": 2,
       "version_minor": 0,
       "model_id": "a2043f896d60417f80afcfd1bc22c09f"
      }
     },
     "metadata": {},
     "output_type": "display_data"
    },
    {
     "data": {
      "text/plain": "VBox(children=(HTML(value='<h4><b>Instruments Information</b></h4>'), Accordion(children=(VBox(children=(Grids…",
      "application/vnd.jupyter.widget-view+json": {
       "version_major": 2,
       "version_minor": 0,
       "model_id": "8340158a04864f09887a4c900e8b75ca"
      }
     },
     "metadata": {},
     "output_type": "display_data"
    }
   ],
   "source": [
    "from Chemingon import *\n",
    "\n",
    "\n",
    "dumComp1 = DummyComponent(\"dum1\")\n",
    "dumComp2 = DummyComponent(\"dum2\")\n",
    "dumComp3 = DummyComponent(\"dum3\")\n",
    "dumComp4 = DummyComponent(\"dum4\")\n",
    "dumComp5 = DummyComponent('dum5')\n",
    "dumSens = DummySensor('sens1', freq = 1)\n",
    "dumSens2 = DummySensor('sens2', freq = 1)\n",
    "dumCombComp = DummyCombinedDevice('dummy combined')\n",
    "comList = [dumComp1, dumComp2, dumComp3, dumComp4, dumSens,dumSens2, dumCombComp]\n",
    "\n",
    "publicComp = DummyComponent(\"Public Dum\", is_public=True)\n",
    "\n",
    "apparatus_test = Apparatus(\"dummy test\")\n",
    "apparatus_test.add_component_list(comList)\n",
    "apparatus_test.add_component(publicComp)\n",
    "\n",
    "protocol_test1 = Protocol(apparatus_test, \"test protocol1\")\n",
    "protocol_test1.add_single_operation(VirtualOperation(\"delay\", kwargs={\"seconds\": 1}))\n",
    "op1 = Operation(publicComp, \"do_something\", wait=True, kwargs={\"output\": \"protocol 1 public device\"})\n",
    "protocol_test1.add_single_operation(op1)\n",
    "protocol_test1.add_single_operation(VirtualOperation(\"wait_for_operation\", kwargs={\"op\": op1}))\n",
    "protocol_test1.quick_add(dumComp1, \"do_something\", kwargs={\"output\": \"protocol 1\"})\n",
    "protocol_test1.quick_add(publicComp, 'do_something', kwargs = {'output': 'protocol1 public'})\n",
    "\n",
    "\n",
    "protocol_test2 = Protocol(apparatus_test, \"test protocol2\")\n",
    "protocol_test2.add_single_operation(VirtualOperation(\"delay\", kwargs={\"seconds\": 1}))\n",
    "protocol_test2.quick_add(publicComp, 'do_something', kwargs = {'output': 'protocol2 public'})\n",
    "protocol_test2.quick_add(dumComp2, \"do_something\", kwargs={\"output\": \"protocol 2\"})\n",
    "protocol_test2.quick_add(dumComp2, \"do_something\", kwargs={\"output\": \"protocol 2-2\"})\n",
    "protocol_test2.quick_add(publicComp, 'do_something', kwargs = {'output': 'protocol2 public'})\n",
    "\n",
    "protocol_test3 = Protocol(apparatus_test, \"test protocol3\", block_public=True)\n",
    "protocol_test3.quick_add(dumComp3, \"do_something\", kwargs={\"output\": \"protocol 3\"})\n",
    "protocol_test3.quick_add(dumComp3, \"do_something\", kwargs={\"output\": \"protocol 3\"})\n",
    "protocol_test3.quick_add(dumComp3, \"do_something\", kwargs={\"output\": \"protocol 3\"})\n",
    "protocol_test3.quick_add(publicComp, 'do_something', kwargs = {'output': 'protocol3 public'})\n",
    "protocol_test3.quick_add(dumComp3, \"do_something\", kwargs={\"output\": \"protocol 3\"})\n",
    "protocol_test3.add_single_operation(VirtualOperation(\"delay\", kwargs={\"seconds\": 5}))\n",
    "protocol_test3.quick_add(dumComp3, \"do_something\", kwargs={\"output\": \"protocol 3\"})\n",
    "protocol_test3.quick_add(dumComp3, \"do_something\", kwargs={\"output\": \"protocol 3\"})\n",
    "\n",
    "protocol_test4 = Protocol(apparatus_test, \"test protocol4\", description='description for p 4')\n",
    "protocol_test4.quick_add(dumCombComp, 'do_something')\n",
    "protocol_test4.quick_add(dumComp4, \"do_something\", kwargs={\"output\": \"protocol 4\"})\n",
    "protocol_test4.quick_add(dumComp4, \"do_something\", kwargs={\"output\": \"protocol 4\"})\n",
    "protocol_test4.quick_add(dumComp4, \"do_something\", kwargs={\"output\": \"protocol 4\"})\n",
    "protocol_test4.quick_add(dumComp4, \"do_something\", kwargs={\"output\": \"protocol 4\"})\n",
    "protocol_test4_1 = Protocol(apparatus_test, \"test protocol4-1\", description='description for p 4-1')\n",
    "protocol_test4_1.quick_add(dumComp4, \"do_something\", kwargs={\"output\": \"protocol 4-1 a\"})\n",
    "protocol_test4_1.quick_add(dumComp4, \"do_something\", kwargs={\"output\": \"protocol 4-1 b\"})\n",
    "\n",
    "protocol_test4_1_1 = Protocol(apparatus_test, \"test protocol4-1-1\", description='description for p 4-1-1')\n",
    "protocol_test4_1_1.quick_add(dumComp4, \"do_something\", kwargs={\"output\": \"protocol 4-1-1 a\"})\n",
    "protocol_test4_1_1.quick_add(dumComp4, \"do_something\", kwargs={\"output\": \"protocol 4-1-1 b\"})\n",
    "protocol_test4_1.add_sub_protocol(protocol_test4_1_1)\n",
    "\n",
    "protocol_test4.add_sub_protocol(protocol_test4_1)\n",
    "\n",
    "\n",
    "protocol_err = Protocol(apparatus_test, \"protocol err\")\n",
    "protocol_err.quick_add(dumComp2, \"do_something\", kwargs={\"output\": \"protocol err\"})\n",
    "\n",
    "exp = Experiment(apparatus_test, channels=4, keep_running=False)\n",
    "exp.add_protocol(protocol_test1, channel=1)\n",
    "exp.add_protocol(protocol_test2, channel=2)\n",
    "exp.add_protocol(protocol_test3, channel=3)\n",
    "exp.add_protocol(protocol_test4, channel=4)\n",
    "\n",
    "exp.err_handler.add_solution('Time > 5', protocol_err)\n",
    "\n",
    "\n",
    "#exp.start_master_operators(dry_run=False)\n",
    "#print(\"all done\")\n",
    "\n",
    "exp.start_jupyter_ui()\n"
   ]
  },
  {
   "cell_type": "code",
   "execution_count": null,
   "metadata": {
    "pycharm": {
     "name": "#%%\n"
    }
   },
   "outputs": [],
   "source": []
  },
  {
   "cell_type": "code",
   "execution_count": null,
   "outputs": [],
   "source": [],
   "metadata": {
    "collapsed": false,
    "pycharm": {
     "name": "#%%\n"
    }
   }
  },
  {
   "cell_type": "code",
   "execution_count": null,
   "metadata": {},
   "outputs": [],
   "source": []
  }
 ],
 "metadata": {
  "kernelspec": {
   "display_name": "Python 3 (ipykernel)",
   "language": "python",
   "name": "python3"
  },
  "language_info": {
   "codemirror_mode": {
    "name": "ipython",
    "version": 3
   },
   "file_extension": ".py",
   "mimetype": "text/x-python",
   "name": "python",
   "nbconvert_exporter": "python",
   "pygments_lexer": "ipython3",
   "version": "3.9.13"
  }
 },
 "nbformat": 4,
 "nbformat_minor": 1
}